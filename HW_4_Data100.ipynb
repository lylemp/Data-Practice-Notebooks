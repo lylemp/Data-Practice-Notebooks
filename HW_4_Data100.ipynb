{
  "nbformat": 4,
  "nbformat_minor": 0,
  "metadata": {
    "colab": {
      "name": "HW 4 Data100.ipynb",
      "version": "0.3.2",
      "provenance": [],
      "collapsed_sections": [],
      "include_colab_link": true
    },
    "kernelspec": {
      "name": "python3",
      "display_name": "Python 3"
    }
  },
  "cells": [
    {
      "cell_type": "markdown",
      "metadata": {
        "id": "view-in-github",
        "colab_type": "text"
      },
      "source": [
        "<a href=\"https://colab.research.google.com/github/lylemp/Data-Practice-Notebooks/blob/master/HW_4_Data100.ipynb\" target=\"_parent\"><img src=\"https://colab.research.google.com/assets/colab-badge.svg\" alt=\"Open In Colab\"/></a>"
      ]
    },
    {
      "cell_type": "code",
      "metadata": {
        "id": "x0SSMp1TwdU9",
        "colab_type": "code",
        "colab": {}
      },
      "source": [
        ""
      ],
      "execution_count": 0,
      "outputs": []
    },
    {
      "cell_type": "markdown",
      "metadata": {
        "id": "8RT_UdY3wgR6",
        "colab_type": "text"
      },
      "source": [
        "**1. (a) Let p denote the probability that a particular item A appears in a simple random\n",
        "sample (SRS). Suppose we collect 5 independent simple random samples, i.e., each\n",
        "SRS is obtained by drawing from the entire population. Let X denote the random\n",
        "variable for the total number of times that A appears in these 5 samples. What is\n",
        "the expected value of X, i.e., E[X]? Your answer should be in terms of p.**\n",
        "\n",
        "Let the discrete R.V. $X$ denote the total number of times A appears in 5 independent simple random samples,\n",
        "and let $p$ denote the probability that element A appears in a simple random sample.\n",
        "\n",
        "First, we note that $X \\sim binom(5, p)$, and that binomially distributed R.V.s can be described in terms of the summation of Bernoulli R.V.s.\n",
        "\n",
        "Let $X_1, X_2, X_3, X_4, X_5  \\sim bern(p) $, where each R.V. describes the appearance of A with probability $p$.\n",
        "\n",
        "We can now calculate for the expected value of X $E(X)$ with relative ease:\n",
        "$$X = X_1 + X_2 + X_3 + X_4 + X_5$$\n",
        "\n",
        "$$E(X) = E(X_1 + X_2 + X_3 + X_4 + X_5)$$\n",
        "\n",
        "$$E(X) = E(X_1) + E(X_2) + E(X_3) + E(X_4) +E(X_5)$$\n",
        "And we know that the expected value of a Bernoulli R.V. is equal to the parameter (in this case, $p$).\n",
        "\n",
        "$$E(X) = p + p + p + p +p$$\n",
        "\n",
        "$$E(X) = 5p$$"
      ]
    },
    {
      "cell_type": "code",
      "metadata": {
        "id": "YNxa9_WHwiwS",
        "colab_type": "code",
        "colab": {}
      },
      "source": [
        ""
      ],
      "execution_count": 0,
      "outputs": []
    },
    {
      "cell_type": "markdown",
      "metadata": {
        "id": "i6yJugS42z2E",
        "colab_type": "text"
      },
      "source": [
        "**(b) What is Var(X)? Again, your answer should be in terms of p.**\n",
        "\n",
        "Recall that $X \\sim binom(n, p)$, and that binomially distributed R.V.s can be described in terms of the summation of $n$ Bernoulli R.V.s. with parameter $p$.\n",
        "\n",
        "We know that variance be equal to $E[(X^2)] - [E(X)]^2$. We can derive the variance by using the formula for expectation: $\\sum{x_ip_i}$. In the case of a Bernoulli R.V., the only values x can take on are 1 and 0, with probabilities $p$ and $(1-p)$, respectively.\n",
        "\n",
        "$[E(X)]^2 = [1(p) + 0(1-p)]^2 = p^2$\n",
        "\n",
        "$E[(X^2)] = [1^2(p) + 0^2(1-p)] = p$\n",
        "\n",
        "$ Var(X) = E[(X^2)] - [E(X)]^2 = p - p^2 = p(1-p) $, (where $X$ is a Bernoulli R.V.)\n",
        "\n",
        "Also recall that, for independent R.V.s, the sum of variances is equal to the variance of their sum.\n",
        "\n",
        "Let  $X_1, X_2, X_3, X_4, X_5, \\sim bern(p)$ , where each R.V. describes the appearance of A with probability  p.\n",
        "$$X = X_1 + X_2 + X_3 + X_4 + X_5$$\n",
        "$$Var(X) = Var(X_1 + X_2 + X_3 + X_4 + X_5) $$\n",
        "$$Var(X) = Var(X_1) + Var(X_2) + Var(X_3) + Var(X_4) + Var(X_5)$$\n",
        "$$Var(X) = p(1-p) + p(1-p) + p(1-p) + p(1-p) + p(1-p)$$\n",
        "$$ Var(X) = 5p(1-p) $$\n",
        "\n"
      ]
    },
    {
      "cell_type": "code",
      "metadata": {
        "id": "875VDW4O2zXj",
        "colab_type": "code",
        "colab": {}
      },
      "source": [
        ""
      ],
      "execution_count": 0,
      "outputs": []
    },
    {
      "cell_type": "markdown",
      "metadata": {
        "id": "aCgaoMZW2tfC",
        "colab_type": "text"
      },
      "source": [
        "**2. Show that if two random variables X and Y are independent, then V ar(X − Y ) =\n",
        "V ar(X) + V ar(Y). You may not use the fact that V ar(X + Y) = V ar(X) + V ar(Y)\n",
        "if X and Y are independent. Instead, use linearity of expectations and the definition of\n",
        "variance. Hint: If two random variables are independent, then their covariance is 0 and\n",
        "E[XY ] = E[X]E[Y ].**\n",
        "\n",
        "Recall that $Var(X) = E[X^2] - (E[X])^2 $. \n",
        "\n",
        "Then,\n",
        "$$ Var(X - Y) = E[(X-Y)^2] - E[(X-Y)]^2 $$\n",
        "\n",
        "$$ Var(X - Y) = E[(X^2 - 2XY + Y^2)] - E[(X-Y)]^2 $$\n",
        "$$ Var(X - Y) = E[X^2] - E[2XY] + E[Y^2] - E[(X-Y)]^2$$\n",
        "Given that X, Y are independent R.V.s, their covariance is 0 and therefore $E[XY ] = E[X]E[Y ]$.\n",
        "\n",
        "$$ Var(X -Y) = E[X^2] - 2E[X]E[Y] + E[Y^2] - E[(X-Y)]^2$$\n",
        "$$ Var(X -Y) = E[X^2] - 2E[X]E[Y] + E[Y^2] - E[(X-Y)]E[(X-Y)]$$\n",
        "$$ Var(X -Y) = E[X^2] - 2E[X]E[Y] + E[Y^2] - (E[X]-E[Y])(E[X]-E[Y])$$\n",
        "$$ Var(X -Y) = E[X^2] - 2E[X]E[Y] + E[Y^2] - (E[X]^2 - 2E[X]E[Y] + E[Y]^2)$$\n",
        "$$ Var(X -Y) = E[X^2] - 2E[X]E[Y] + E[Y^2] - E[X]^2 + 2E[X]E[Y] - E[Y]^2)$$\n",
        "\n",
        "Cancelling like terms and rearranging the terms, we get:\n",
        "\n",
        "$$ Var(X -Y) = (E[X^2] - E[X]^2) + (E[Y^2] - E[Y]^2)$$\n",
        "$$ Var(X-Y) = Var(X) + Var(Y) $$\n",
        "\n"
      ]
    },
    {
      "cell_type": "code",
      "metadata": {
        "id": "gu53x7aECFq6",
        "colab_type": "code",
        "colab": {}
      },
      "source": [
        ""
      ],
      "execution_count": 0,
      "outputs": []
    },
    {
      "cell_type": "markdown",
      "metadata": {
        "id": "YfBbme5iHAU-",
        "colab_type": "text"
      },
      "source": [
        "**3. Consider rolling (independently) one fair six-sided die and one loaded six-sided die.\n",
        "Let $X_1$ and $X_2$ denote, respectively, the number of spots from one roll of the fair die and\n",
        "one roll of the loaded die. Suppose the distribution for the loaded die is**\n",
        "$$Pr(X_2 = 1) = Pr(X_2 = 2) = \\dfrac{1}{16}$$\n",
        "$$Pr(X_2 = 3) = Pr(X_2 = 4) = \\dfrac{3}{16}$$\n",
        "$$Pr(X_2 = 5) = Pr(X_2 = 6) = \\dfrac{4}{16}$$\n",
        "\n",
        "**Let $Y = X_1X_2$ denote the product of the two numbers of spots.**\n",
        "\n",
        "**(a) What is the expected value of Y?**\n",
        "$$ Y = X_1X_2 $$\n",
        "$$ E[Y] = E[X_1X_2] $$\n",
        "\n",
        "Because we know $X_1$ and $X_2$ are independent, $E[X_1X_2] = E[X_1]E[X_2]$\n",
        "\n",
        "$$E[Y] = E[X_1]E[X_2]$$\n",
        "$$E[Y] = (3.5)(1(\\dfrac{1}{16}) + 2(\\dfrac{1}{16}) + 3(\\dfrac{3}{16}) + 4(\\dfrac{3}{16}) + 5(\\dfrac{4}{16}) + 6(\\dfrac{4}{16}))$$\n",
        "$$E[Y] = (3.5)(4.25)$$\n",
        "$$E[Y] = 14.875$$\n"
      ]
    },
    {
      "cell_type": "code",
      "metadata": {
        "id": "lQxBAHPbJoov",
        "colab_type": "code",
        "outputId": "bf4d8e24-4a48-4112-efcd-69918af25038",
        "colab": {
          "base_uri": "https://localhost:8080/",
          "height": 69
        }
      },
      "source": [
        "e_x1 = 1/6 * (1 + 2 + 3 + 4 + 5 + 6)\n",
        "e_x2 = (1 * 1/16) + (2 * 1/16) + (3 * 3/16) + (4 * 3/16) + (5 * 4/16) + (6 * 4/16)\n",
        "\n",
        "display(e_x1, e_x2, e_x1 * e_x2)"
      ],
      "execution_count": 0,
      "outputs": [
        {
          "output_type": "display_data",
          "data": {
            "text/plain": [
              "3.5"
            ]
          },
          "metadata": {
            "tags": []
          }
        },
        {
          "output_type": "display_data",
          "data": {
            "text/plain": [
              "4.25"
            ]
          },
          "metadata": {
            "tags": []
          }
        },
        {
          "output_type": "display_data",
          "data": {
            "text/plain": [
              "14.875"
            ]
          },
          "metadata": {
            "tags": []
          }
        }
      ]
    },
    {
      "cell_type": "code",
      "metadata": {
        "id": "8RIiabVgJ2OK",
        "colab_type": "code",
        "colab": {}
      },
      "source": [
        ""
      ],
      "execution_count": 0,
      "outputs": []
    },
    {
      "cell_type": "markdown",
      "metadata": {
        "id": "L1Wwaj9Pafhm",
        "colab_type": "text"
      },
      "source": [
        "**(b) What is the variance of Y?**\n",
        "\n",
        "Let $Y = X_1X_2$ denote the product of the two numbers of spots.\n",
        "\n",
        "$$Y = X_1X_2 $$\n",
        "\n",
        "$$Var(Y) = Var(X_1X_2)$$\n",
        "\n",
        "$$Var(Y) = E[(X_1X_2)^2] - (E[X_1X_2])^2$$\n",
        "\n",
        "Solving for $ E[(X_1X_2)^2]$, we get:\n",
        "$$E[(X_1X_2)^2] = (1^2(\\dfrac{1}{6}) + 2^2(\\dfrac{1}{6}) + 3^2(\\dfrac{1}{6}) + 4^2(\\dfrac{1}{6}) + 5^2(\\dfrac{1}{6}) + 6^2(\\dfrac{1}{6})(1^2(\\dfrac{1}{16}) + 2^2(\\dfrac{1}{16}) + 3^2(\\dfrac{3}{16}) + 4^2(\\dfrac{3}{16}) + 5^2(\\dfrac{4}{16}) + 6^2(\\dfrac{4}{16}))$$\n",
        "$$=(\\dfrac{91}{6})(\\dfrac{324}{16})$$\n",
        "$$=307.125$$\n",
        "\n",
        "\n",
        "Solving for $ E[(X_1X_2)]^2$, we get:\n",
        "$$ (14.875)(14.875) $$\n",
        "$$ = 221.265625 $$\n",
        "\n",
        "$$Var(Y) = 307.125 - 221.265625 = 85.9375‬ $$\n"
      ]
    },
    {
      "cell_type": "code",
      "metadata": {
        "id": "aN813tMk9Kvf",
        "colab_type": "code",
        "colab": {}
      },
      "source": [
        "e_x1_squared = 1**2*(1/6) + 2**2*(1/6) + 3**2*(1/6) + 4**2*(1/6) + 5**2*(1/6) + 6**2*(1/6)"
      ],
      "execution_count": 0,
      "outputs": []
    },
    {
      "cell_type": "code",
      "metadata": {
        "id": "BKBzak_w9ert",
        "colab_type": "code",
        "colab": {
          "base_uri": "https://localhost:8080/",
          "height": 34
        },
        "outputId": "f6e3549f-f3ab-466c-816c-5e3b07312a41"
      },
      "source": [
        "91/6"
      ],
      "execution_count": 4,
      "outputs": [
        {
          "output_type": "execute_result",
          "data": {
            "text/plain": [
              "15.166666666666666"
            ]
          },
          "metadata": {
            "tags": []
          },
          "execution_count": 4
        }
      ]
    },
    {
      "cell_type": "code",
      "metadata": {
        "id": "wHGqiA0N9HVb",
        "colab_type": "code",
        "colab": {
          "base_uri": "https://localhost:8080/",
          "height": 34
        },
        "outputId": "fd9f68fe-c6a9-422e-ba9a-f3373aa8cc1c"
      },
      "source": [
        "(91/6)*(324/16)"
      ],
      "execution_count": 1,
      "outputs": [
        {
          "output_type": "execute_result",
          "data": {
            "text/plain": [
              "307.125"
            ]
          },
          "metadata": {
            "tags": []
          },
          "execution_count": 1
        }
      ]
    },
    {
      "cell_type": "code",
      "metadata": {
        "id": "jLnzA01u97yO",
        "colab_type": "code",
        "colab": {}
      },
      "source": [
        "e_x2_squared = 1**2*(1/16) + 2**2*(1/16) + 3**2*(3/16) + 4**2*(3/16) + 5**2*(4/16) + 6**2*(4/16)"
      ],
      "execution_count": 0,
      "outputs": []
    },
    {
      "cell_type": "code",
      "metadata": {
        "id": "thJOqt4T-AZR",
        "colab_type": "code",
        "colab": {
          "base_uri": "https://localhost:8080/",
          "height": 34
        },
        "outputId": "1d35b69a-45aa-409f-e252-8ec863ad195d"
      },
      "source": [
        "e_x1 * e_x2 "
      ],
      "execution_count": 10,
      "outputs": [
        {
          "output_type": "execute_result",
          "data": {
            "text/plain": [
              "307.125"
            ]
          },
          "metadata": {
            "tags": []
          },
          "execution_count": 10
        }
      ]
    },
    {
      "cell_type": "code",
      "metadata": {
        "id": "x6JTUtow-GFd",
        "colab_type": "code",
        "colab": {}
      },
      "source": [
        ""
      ],
      "execution_count": 0,
      "outputs": []
    },
    {
      "cell_type": "markdown",
      "metadata": {
        "id": "DGqz-rQa-ZnK",
        "colab_type": "text"
      },
      "source": [
        "**(c) Estimate the sampling distribution of Y by simulating 10,000 rolls of the pair of dice.\n",
        "Provide a graphical display of the distribution. Compare the mean and variance\n",
        "from this estimate to the values you computed above**\n"
      ]
    },
    {
      "cell_type": "code",
      "metadata": {
        "id": "xB_fwh9G-cF7",
        "colab_type": "code",
        "colab": {
          "base_uri": "https://localhost:8080/",
          "height": 425
        },
        "outputId": "27a3ec6a-6194-4b89-897c-c7e2bff138b3"
      },
      "source": [
        "import numpy as np\n",
        "import matplotlib.pyplot as plt\n",
        "np.random.seed(155)\n",
        "dice_x1 = [1, 2, 3, 4, 5, 6]\n",
        "dice_x2 = [1, 2, 3, 3, 3, 4, 4, 4, 5, 5, 5, 5, 6, 6, 6, 6]\n",
        "\n",
        "dice_value_products = []\n",
        "\n",
        "for i in range(10000):\n",
        "  dice_value_products.append(np.random.choice(dice_x1) * np.random.choice(dice_x2))\n",
        "\n",
        "display(np.mean(dice_value_products),\n",
        "        np.var(dice_value_products),\n",
        "        plt.hist(dice_value_products, bins = 15))\n"
      ],
      "execution_count": 4,
      "outputs": [
        {
          "output_type": "display_data",
          "data": {
            "text/plain": [
              "14.7734"
            ]
          },
          "metadata": {
            "tags": []
          }
        },
        {
          "output_type": "display_data",
          "data": {
            "text/plain": [
              "85.56225244"
            ]
          },
          "metadata": {
            "tags": []
          }
        },
        {
          "output_type": "display_data",
          "data": {
            "text/plain": [
              "(array([ 750., 1067.,  916., 1246., 1196.,    0., 1033.,  732.,  691.,\n",
              "         709.,  436.,    0.,  809.,    0.,  415.]),\n",
              " array([ 1.        ,  3.33333333,  5.66666667,  8.        , 10.33333333,\n",
              "        12.66666667, 15.        , 17.33333333, 19.66666667, 22.        ,\n",
              "        24.33333333, 26.66666667, 29.        , 31.33333333, 33.66666667,\n",
              "        36.        ]),\n",
              " <a list of 15 Patch objects>)"
            ]
          },
          "metadata": {
            "tags": []
          }
        },
        {
          "output_type": "display_data",
          "data": {
            "image/png": "[encoded data removed]",
            "text/plain": [
              "<Figure size 432x288 with 1 Axes>"
            ]
          },
          "metadata": {
            "tags": []
          }
        }
      ]
    },
    {
      "cell_type": "code",
      "metadata": {
        "id": "7iKD5Qxw_TEY",
        "colab_type": "code",
        "colab": {}
      },
      "source": [
        ""
      ],
      "execution_count": 0,
      "outputs": []
    }
  ]
}