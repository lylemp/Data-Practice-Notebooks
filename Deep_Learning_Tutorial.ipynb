{
  "nbformat": 4,
  "nbformat_minor": 0,
  "metadata": {
    "colab": {
      "name": "Deep Learning Tutorial.ipynb",
      "version": "0.3.2",
      "provenance": [],
      "toc_visible": true,
      "include_colab_link": true
    },
    "kernelspec": {
      "name": "python3",
      "display_name": "Python 3"
    }
  },
  "cells": [
    {
      "cell_type": "markdown",
      "metadata": {
        "id": "view-in-github",
        "colab_type": "text"
      },
      "source": [
        "<a href=\"https://colab.research.google.com/github/lylemp/Data-Practice-Notebooks/blob/master/Deep_Learning_Tutorial.ipynb\" target=\"_parent\"><img src=\"https://colab.research.google.com/assets/colab-badge.svg\" alt=\"Open In Colab\"/></a>"
      ]
    },
    {
      "cell_type": "code",
      "metadata": {
        "id": "ZaPD6-zMXcpR",
        "colab_type": "code",
        "colab": {
          "base_uri": "https://localhost:8080/",
          "height": 34
        },
        "outputId": "ee5f5d55-bcfc-4817-e849-879987a7e727"
      },
      "source": [
        "#! pip install ray\n",
        "!pip uninstall -y pyarrow # And then restart runtime"
      ],
      "execution_count": 1,
      "outputs": [
        {
          "output_type": "stream",
          "text": [
            "\u001b[33mWARNING: Skipping pyarrow as it is not installed.\u001b[0m\n"
          ],
          "name": "stdout"
        }
      ]
    },
    {
      "cell_type": "code",
      "metadata": {
        "id": "RLf7xcEMXJJy",
        "colab_type": "code",
        "colab": {}
      },
      "source": [
        "import ray"
      ],
      "execution_count": 0,
      "outputs": []
    },
    {
      "cell_type": "code",
      "metadata": {
        "id": "VE545wchossY",
        "colab_type": "code",
        "outputId": "9488698e-74e5-4c39-c0b6-6c489a9228a9",
        "colab": {
          "base_uri": "https://localhost:8080/",
          "height": 502
        }
      },
      "source": [
        "!pip install tensorflow\n",
        "#!pip install tensorflow-gpu\n",
        "!sudo pip install keras\n"
      ],
      "execution_count": 3,
      "outputs": [
        {
          "output_type": "stream",
          "text": [
            "Requirement already satisfied: tensorflow in /usr/local/lib/python3.6/dist-packages (1.14.0)\n",
            "Requirement already satisfied: google-pasta>=0.1.6 in /usr/local/lib/python3.6/dist-packages (from tensorflow) (0.1.7)\n",
            "Requirement already satisfied: keras-applications>=1.0.6 in /usr/local/lib/python3.6/dist-packages (from tensorflow) (1.0.8)\n",
            "Requirement already satisfied: termcolor>=1.1.0 in /usr/local/lib/python3.6/dist-packages (from tensorflow) (1.1.0)\n",
            "Requirement already satisfied: absl-py>=0.7.0 in /usr/local/lib/python3.6/dist-packages (from tensorflow) (0.7.1)\n",
            "Requirement already satisfied: tensorboard<1.15.0,>=1.14.0 in /usr/local/lib/python3.6/dist-packages (from tensorflow) (1.14.0)\n",
            "Requirement already satisfied: keras-preprocessing>=1.0.5 in /usr/local/lib/python3.6/dist-packages (from tensorflow) (1.1.0)\n",
            "Requirement already satisfied: protobuf>=3.6.1 in /usr/local/lib/python3.6/dist-packages (from tensorflow) (3.9.1)\n",
            "Requirement already satisfied: astor>=0.6.0 in /usr/local/lib/python3.6/dist-packages (from tensorflow) (0.8.0)\n",
            "Requirement already satisfied: wrapt>=1.11.1 in /usr/local/lib/python3.6/dist-packages (from tensorflow) (1.11.2)\n",
            "Requirement already satisfied: numpy<2.0,>=1.14.5 in /usr/local/lib/python3.6/dist-packages (from tensorflow) (1.16.4)\n",
            "Requirement already satisfied: wheel>=0.26 in /usr/local/lib/python3.6/dist-packages (from tensorflow) (0.33.4)\n",
            "Requirement already satisfied: grpcio>=1.8.6 in /usr/local/lib/python3.6/dist-packages (from tensorflow) (1.15.0)\n",
            "Requirement already satisfied: tensorflow-estimator<1.15.0rc0,>=1.14.0rc0 in /usr/local/lib/python3.6/dist-packages (from tensorflow) (1.14.0)\n",
            "Requirement already satisfied: gast>=0.2.0 in /usr/local/lib/python3.6/dist-packages (from tensorflow) (0.2.2)\n",
            "Requirement already satisfied: six>=1.10.0 in /usr/local/lib/python3.6/dist-packages (from tensorflow) (1.12.0)\n",
            "Requirement already satisfied: h5py in /usr/local/lib/python3.6/dist-packages (from keras-applications>=1.0.6->tensorflow) (2.8.0)\n",
            "Requirement already satisfied: werkzeug>=0.11.15 in /usr/local/lib/python3.6/dist-packages (from tensorboard<1.15.0,>=1.14.0->tensorflow) (0.15.5)\n",
            "Requirement already satisfied: markdown>=2.6.8 in /usr/local/lib/python3.6/dist-packages (from tensorboard<1.15.0,>=1.14.0->tensorflow) (3.1.1)\n",
            "Requirement already satisfied: setuptools>=41.0.0 in /usr/local/lib/python3.6/dist-packages (from tensorboard<1.15.0,>=1.14.0->tensorflow) (41.0.1)\n",
            "Requirement already satisfied: keras in /usr/local/lib/python3.6/dist-packages (2.2.4)\n",
            "Requirement already satisfied: keras-preprocessing>=1.0.5 in /usr/local/lib/python3.6/dist-packages (from keras) (1.1.0)\n",
            "Requirement already satisfied: pyyaml in /usr/local/lib/python3.6/dist-packages (from keras) (3.13)\n",
            "Requirement already satisfied: numpy>=1.9.1 in /usr/local/lib/python3.6/dist-packages (from keras) (1.16.4)\n",
            "Requirement already satisfied: keras-applications>=1.0.6 in /usr/local/lib/python3.6/dist-packages (from keras) (1.0.8)\n",
            "Requirement already satisfied: h5py in /usr/local/lib/python3.6/dist-packages (from keras) (2.8.0)\n",
            "Requirement already satisfied: scipy>=0.14 in /usr/local/lib/python3.6/dist-packages (from keras) (1.3.0)\n",
            "Requirement already satisfied: six>=1.9.0 in /usr/local/lib/python3.6/dist-packages (from keras) (1.12.0)\n"
          ],
          "name": "stdout"
        }
      ]
    },
    {
      "cell_type": "markdown",
      "metadata": {
        "id": "rErym-Yo8MNp",
        "colab_type": "text"
      },
      "source": [
        "# Loading data with Keras"
      ]
    },
    {
      "cell_type": "code",
      "metadata": {
        "id": "PQZmaO5tpkXs",
        "colab_type": "code",
        "outputId": "278b2e59-8677-4b82-c115-739069e0c327",
        "colab": {
          "base_uri": "https://localhost:8080/",
          "height": 34
        }
      },
      "source": [
        "from keras.datasets import mnist # or some other built-in dataset\n",
        "\n",
        "# mnist dataset: grayscale image data consisting of handwritten digits"
      ],
      "execution_count": 4,
      "outputs": [
        {
          "output_type": "stream",
          "text": [
            "Using TensorFlow backend.\n"
          ],
          "name": "stderr"
        }
      ]
    },
    {
      "cell_type": "markdown",
      "metadata": {
        "id": "fKNBmF6t9AD3",
        "colab_type": "text"
      },
      "source": [
        "Keras is using TensorFlow to perform computations."
      ]
    },
    {
      "cell_type": "markdown",
      "metadata": {
        "id": "-vXd55wC8geZ",
        "colab_type": "text"
      },
      "source": [
        "# Importing some Keras utilities "
      ]
    },
    {
      "cell_type": "code",
      "metadata": {
        "id": "ZmSmFgD48bhG",
        "colab_type": "code",
        "colab": {}
      },
      "source": [
        "import keras.utils.np_utils as ku\n",
        "import keras.models as models\n",
        "import keras.layers as layers\n",
        "\n",
        "from keras import regularizers\n",
        "\n",
        "import numpy as np\n",
        "import pandas as po\n",
        "import matplotlib.pyplot as plt\n",
        "\n",
        "%matplotlib inline"
      ],
      "execution_count": 0,
      "outputs": []
    },
    {
      "cell_type": "code",
      "metadata": {
        "id": "SG2GjFul8Stz",
        "colab_type": "code",
        "colab": {}
      },
      "source": [
        "(train_images, train_labels), (test_images, test_labels) = mnist.load_data()"
      ],
      "execution_count": 0,
      "outputs": []
    },
    {
      "cell_type": "markdown",
      "metadata": {
        "id": "gnti-A2g-ukr",
        "colab_type": "text"
      },
      "source": [
        "# Exploratory Data Analysis"
      ]
    },
    {
      "cell_type": "code",
      "metadata": {
        "id": "eTIYETLU9TQV",
        "colab_type": "code",
        "outputId": "df8e2708-711c-42ac-8515-faf7cec19037",
        "colab": {
          "base_uri": "https://localhost:8080/",
          "height": 34
        }
      },
      "source": [
        "print(train_images[4].shape)"
      ],
      "execution_count": 7,
      "outputs": [
        {
          "output_type": "stream",
          "text": [
            "(28, 28)\n"
          ],
          "name": "stdout"
        }
      ]
    },
    {
      "cell_type": "code",
      "metadata": {
        "id": "YrBy1_ev9WCi",
        "colab_type": "code",
        "outputId": "2e1d8120-f4d8-45c2-e258-e94e9b716a84",
        "colab": {
          "base_uri": "https://localhost:8080/",
          "height": 1000
        }
      },
      "source": [
        "for i in range(10):\n",
        "  plt.imshow(train_images[i],\n",
        "          cmap = plt.cm.binary) #black/white color map\n",
        "  plt.show()\n",
        "  print(\"Label = \" + str(train_labels[i]))"
      ],
      "execution_count": 8,
      "outputs": [
        {
          "output_type": "display_data",
          "data": {
            "image/png": "[encoded data removed]",
            "text/plain": [
              "<Figure size 432x288 with 1 Axes>"
            ]
          },
          "metadata": {
            "tags": []
          }
        },
        {
          "output_type": "stream",
          "text": [
            "Label = 5\n"
          ],
          "name": "stdout"
        },
        {
          "output_type": "display_data",
          "data": {
            "image/png": "[encoded data removed]",
            "text/plain": [
              "<Figure size 432x288 with 1 Axes>"
            ]
          },
          "metadata": {
            "tags": []
          }
        },
        {
          "output_type": "stream",
          "text": [
            "Label = 0\n"
          ],
          "name": "stdout"
        },
        {
          "output_type": "display_data",
          "data": {
            "image/png": "[encoded data removed]",
            "text/plain": [
              "<Figure size 432x288 with 1 Axes>"
            ]
          },
          "metadata": {
            "tags": []
          }
        },
        {
          "output_type": "stream",
          "text": [
            "Label = 4\n"
          ],
          "name": "stdout"
        },
        {
          "output_type": "display_data",
          "data": {
            "image/png": "[encoded data removed]",
            "text/plain": [
              "<Figure size 432x288 with 1 Axes>"
            ]
          },
          "metadata": {
            "tags": []
          }
        },
        {
          "output_type": "stream",
          "text": [
            "Label = 1\n"
          ],
          "name": "stdout"
        },
        {
          "output_type": "display_data",
          "data": {
            "image/png": "[encoded data removed]",
            "text/plain": [
              "<Figure size 432x288 with 1 Axes>"
            ]
          },
          "metadata": {
            "tags": []
          }
        },
        {
          "output_type": "stream",
          "text": [
            "Label = 9\n"
          ],
          "name": "stdout"
        },
        {
          "output_type": "display_data",
          "data": {
            "image/png": "[encoded data removed]",
            "text/plain": [
              "<Figure size 432x288 with 1 Axes>"
            ]
          },
          "metadata": {
            "tags": []
          }
        },
        {
          "output_type": "stream",
          "text": [
            "Label = 2\n"
          ],
          "name": "stdout"
        },
        {
          "output_type": "display_data",
          "data": {
            "image/png": "[encoded data removed]",
            "text/plain": [
              "<Figure size 432x288 with 1 Axes>"
            ]
          },
          "metadata": {
            "tags": []
          }
        },
        {
          "output_type": "stream",
          "text": [
            "Label = 1\n"
          ],
          "name": "stdout"
        },
        {
          "output_type": "display_data",
          "data": {
            "image/png": "[encoded data removed]",
            "text/plain": [
              "<Figure size 432x288 with 1 Axes>"
            ]
          },
          "metadata": {
            "tags": []
          }
        },
        {
          "output_type": "stream",
          "text": [
            "Label = 3\n"
          ],
          "name": "stdout"
        },
        {
          "output_type": "display_data",
          "data": {
            "image/png": "[encoded data removed]",
            "text/plain": [
              "<Figure size 432x288 with 1 Axes>"
            ]
          },
          "metadata": {
            "tags": []
          }
        },
        {
          "output_type": "stream",
          "text": [
            "Label = 1\n"
          ],
          "name": "stdout"
        },
        {
          "output_type": "display_data",
          "data": {
            "image/png": "[encoded data removed]",
            "text/plain": [
              "<Figure size 432x288 with 1 Axes>"
            ]
          },
          "metadata": {
            "tags": []
          }
        },
        {
          "output_type": "stream",
          "text": [
            "Label = 4\n"
          ],
          "name": "stdout"
        }
      ]
    },
    {
      "cell_type": "code",
      "metadata": {
        "id": "h12yOEe5r78i",
        "colab_type": "code",
        "colab": {
          "base_uri": "https://localhost:8080/",
          "height": 121
        },
        "outputId": "90c52189-1bbd-401e-d260-453663cade5c"
      },
      "source": [
        "# pixel values of the fourth image\n",
        "po.Series(train_images[4].reshape(28*28,)).unique()"
      ],
      "execution_count": 9,
      "outputs": [
        {
          "output_type": "execute_result",
          "data": {
            "text/plain": [
              "array([  0,  55, 148, 210, 253, 113,  87, 232, 252, 189, 168,   4,  57,\n",
              "       242, 190,  65,   5,  12, 182, 116,  96, 183,  14,  92, 225,  21,\n",
              "       132, 146, 215,  79, 126, 247, 176,   9,   8,  78, 245, 129,  16,\n",
              "        36, 201, 169,  11,  22,  30, 119, 197, 241, 251,  77, 231, 226,\n",
              "       227, 235, 217, 138,  42,  24, 192, 143,  62, 255, 109,  71, 106,\n",
              "        45, 218,  56, 184, 170, 147], dtype=uint64)"
            ]
          },
          "metadata": {
            "tags": []
          },
          "execution_count": 9
        }
      ]
    },
    {
      "cell_type": "code",
      "metadata": {
        "id": "ZzFezxto9j-y",
        "colab_type": "code",
        "outputId": "7a990751-05e3-4e96-e3b7-eaf274989156",
        "colab": {
          "base_uri": "https://localhost:8080/",
          "height": 207
        }
      },
      "source": [
        "# frequencies for each number\n",
        "counts = po.Series(train_labels).value_counts().sort_index()\n",
        "counts"
      ],
      "execution_count": 10,
      "outputs": [
        {
          "output_type": "execute_result",
          "data": {
            "text/plain": [
              "0    5923\n",
              "1    6742\n",
              "2    5958\n",
              "3    6131\n",
              "4    5842\n",
              "5    5421\n",
              "6    5918\n",
              "7    6265\n",
              "8    5851\n",
              "9    5949\n",
              "dtype: int64"
            ]
          },
          "metadata": {
            "tags": []
          },
          "execution_count": 10
        }
      ]
    },
    {
      "cell_type": "code",
      "metadata": {
        "id": "08BJOFlBqALh",
        "colab_type": "code",
        "colab": {
          "base_uri": "https://localhost:8080/",
          "height": 282
        },
        "outputId": "e279fd69-1e53-47e3-9e0d-77354c973b41"
      },
      "source": [
        "counts.plot(kind = 'bar')"
      ],
      "execution_count": 11,
      "outputs": [
        {
          "output_type": "execute_result",
          "data": {
            "text/plain": [
              "<matplotlib.axes._subplots.AxesSubplot at 0x7f5724f515f8>"
            ]
          },
          "metadata": {
            "tags": []
          },
          "execution_count": 11
        },
        {
          "output_type": "display_data",
          "data": {
            "image/png": "[encoded data removed]",
            "text/plain": [
              "<Figure size 432x288 with 1 Axes>"
            ]
          },
          "metadata": {
            "tags": []
          }
        }
      ]
    },
    {
      "cell_type": "code",
      "metadata": {
        "id": "yuj6lREu_h8K",
        "colab_type": "code",
        "outputId": "00c0bd56-3db4-4f07-c8d1-e3275931ce0e",
        "colab": {
          "base_uri": "https://localhost:8080/",
          "height": 34
        }
      },
      "source": [
        "print(train_images.shape, test_images.shape)"
      ],
      "execution_count": 12,
      "outputs": [
        {
          "output_type": "stream",
          "text": [
            "(60000, 28, 28) (10000, 28, 28)\n"
          ],
          "name": "stdout"
        }
      ]
    },
    {
      "cell_type": "code",
      "metadata": {
        "id": "GwN4L8L9_kA_",
        "colab_type": "code",
        "outputId": "e5568a81-2e1a-43f1-c68c-0cba2c311b13",
        "colab": {
          "base_uri": "https://localhost:8080/",
          "height": 34
        }
      },
      "source": [
        "print(train_labels.shape, test_labels.shape)"
      ],
      "execution_count": 13,
      "outputs": [
        {
          "output_type": "stream",
          "text": [
            "(60000,) (10000,)\n"
          ],
          "name": "stdout"
        }
      ]
    },
    {
      "cell_type": "markdown",
      "metadata": {
        "id": "N23uMV7Z-qoJ",
        "colab_type": "text"
      },
      "source": [
        "# Data Cleaning (for model training)"
      ]
    },
    {
      "cell_type": "markdown",
      "metadata": {
        "id": "ByzCcq0S_QL_",
        "colab_type": "text"
      },
      "source": [
        "## Image standardizing and flattening\n",
        "\n",
        "Currently, the training data is held in a 3D tensor (60000 x 28 x 28). The 28 x 28 pixel images is on Gray Scale (so value range is 0-255), but we scale the pixel values to the range (0-1) by dividing by 255. Also, we want to flatten it to 2D."
      ]
    },
    {
      "cell_type": "code",
      "metadata": {
        "id": "6qHqJ4V4_Oxk",
        "colab_type": "code",
        "outputId": "7cafb824-e208-438f-beeb-7254cb1a9f7b",
        "colab": {
          "base_uri": "https://localhost:8080/",
          "height": 173
        }
      },
      "source": [
        "# Standardizing pixel values\n",
        "\n",
        "print(\"Original pixel values:\\n \" + str(train_images[0][5]))\n",
        "\n",
        "standardized_train_images = train_images.astype('float32')/255\n",
        "print(\"Standardized pixel values:\\n \" + str(standardized_train_images[0][5]))\n"
      ],
      "execution_count": 14,
      "outputs": [
        {
          "output_type": "stream",
          "text": [
            "Original pixel values:\n",
            " [  0   0   0   0   0   0   0   0   0   0   0   0   3  18  18  18 126 136\n",
            " 175  26 166 255 247 127   0   0   0   0]\n",
            "Standardized pixel values:\n",
            " [0.         0.         0.         0.         0.         0.\n",
            " 0.         0.         0.         0.         0.         0.\n",
            " 0.01176471 0.07058824 0.07058824 0.07058824 0.49411765 0.53333336\n",
            " 0.6862745  0.10196079 0.6509804  1.         0.96862745 0.49803922\n",
            " 0.         0.         0.         0.        ]\n"
          ],
          "name": "stdout"
        }
      ]
    },
    {
      "cell_type": "code",
      "metadata": {
        "id": "wZD2ESEbBPaY",
        "colab_type": "code",
        "outputId": "9da106ba-a95c-4c9a-8320-53205575f3be",
        "colab": {
          "base_uri": "https://localhost:8080/",
          "height": 207
        }
      },
      "source": [
        "# Flattening original data\n",
        "\n",
        "print(\"2D Tensor: \" + str(standardized_train_images[0][0:5])) # Displaying the first image's 'top' 5 rows\n",
        "\n",
        "flat_standard_train_images = standardized_train_images.reshape(60000, # we still want 60000 instances to train on...\n",
        "                                                              28 * 28 # but we can flatten the previously 2D pixel values into a single, 1D array\n",
        "                                                              )\n",
        "\n",
        "print(\"1D Tensor: \" + str(flat_standard_train_images[0][0:5])) # Displaying the first image's 'top' 5 rows"
      ],
      "execution_count": 15,
      "outputs": [
        {
          "output_type": "stream",
          "text": [
            "2D Tensor: [[0. 0. 0. 0. 0. 0. 0. 0. 0. 0. 0. 0. 0. 0. 0. 0. 0. 0. 0. 0. 0. 0. 0. 0.\n",
            "  0. 0. 0. 0.]\n",
            " [0. 0. 0. 0. 0. 0. 0. 0. 0. 0. 0. 0. 0. 0. 0. 0. 0. 0. 0. 0. 0. 0. 0. 0.\n",
            "  0. 0. 0. 0.]\n",
            " [0. 0. 0. 0. 0. 0. 0. 0. 0. 0. 0. 0. 0. 0. 0. 0. 0. 0. 0. 0. 0. 0. 0. 0.\n",
            "  0. 0. 0. 0.]\n",
            " [0. 0. 0. 0. 0. 0. 0. 0. 0. 0. 0. 0. 0. 0. 0. 0. 0. 0. 0. 0. 0. 0. 0. 0.\n",
            "  0. 0. 0. 0.]\n",
            " [0. 0. 0. 0. 0. 0. 0. 0. 0. 0. 0. 0. 0. 0. 0. 0. 0. 0. 0. 0. 0. 0. 0. 0.\n",
            "  0. 0. 0. 0.]]\n",
            "1D Tensor: [0. 0. 0. 0. 0.]\n"
          ],
          "name": "stdout"
        }
      ]
    },
    {
      "cell_type": "markdown",
      "metadata": {
        "id": "5-8FYyEWCoLL",
        "colab_type": "text"
      },
      "source": [
        "And we now apply the same data transformations to our testing data."
      ]
    },
    {
      "cell_type": "code",
      "metadata": {
        "id": "OKIwxIE8CsNV",
        "colab_type": "code",
        "colab": {}
      },
      "source": [
        "flat_standard_test_images = ((test_images.astype(\"float32\")/255)\n",
        "                             .reshape(10000, 28 * 28)\n",
        "                            )"
      ],
      "execution_count": 0,
      "outputs": []
    },
    {
      "cell_type": "markdown",
      "metadata": {
        "id": "Iij8h5KMCiqx",
        "colab_type": "text"
      },
      "source": [
        "## One-Hot Encoding our Labels\n",
        "\n",
        "Currently, our label values range from 0-9. While there are standard procedures for multiclass classification, it is often easier to use a \"One vs. Rest\" scheme. In Pandas, you may know it as \"dummying.\"\n",
        "\n",
        "Keras has a similar function to Pandas's get_dummies() method -- to_categorical() (not to confuse with Pandas's to_categorical method).\n"
      ]
    },
    {
      "cell_type": "code",
      "metadata": {
        "id": "j2Vgh_k9AVGm",
        "colab_type": "code",
        "outputId": "165b2828-97f5-4be6-9dd7-76f45df4e127",
        "colab": {
          "base_uri": "https://localhost:8080/",
          "height": 138
        }
      },
      "source": [
        "dummied_train_labels = ku.to_categorical(train_labels)\n",
        "dummied_train_labels"
      ],
      "execution_count": 17,
      "outputs": [
        {
          "output_type": "execute_result",
          "data": {
            "text/plain": [
              "array([[0., 0., 0., ..., 0., 0., 0.],\n",
              "       [1., 0., 0., ..., 0., 0., 0.],\n",
              "       [0., 0., 0., ..., 0., 0., 0.],\n",
              "       ...,\n",
              "       [0., 0., 0., ..., 0., 0., 0.],\n",
              "       [0., 0., 0., ..., 0., 0., 0.],\n",
              "       [0., 0., 0., ..., 0., 1., 0.]], dtype=float32)"
            ]
          },
          "metadata": {
            "tags": []
          },
          "execution_count": 17
        }
      ]
    },
    {
      "cell_type": "code",
      "metadata": {
        "id": "CHwIThHfD00d",
        "colab_type": "code",
        "outputId": "745ad850-f03c-4970-8b91-4ce4fbb8c089",
        "colab": {
          "base_uri": "https://localhost:8080/",
          "height": 138
        }
      },
      "source": [
        "dummied_test_labels = ku.to_categorical(test_labels)\n",
        "dummied_test_labels"
      ],
      "execution_count": 18,
      "outputs": [
        {
          "output_type": "execute_result",
          "data": {
            "text/plain": [
              "array([[0., 0., 0., ..., 1., 0., 0.],\n",
              "       [0., 0., 1., ..., 0., 0., 0.],\n",
              "       [0., 1., 0., ..., 0., 0., 0.],\n",
              "       ...,\n",
              "       [0., 0., 0., ..., 0., 0., 0.],\n",
              "       [0., 0., 0., ..., 0., 0., 0.],\n",
              "       [0., 0., 0., ..., 0., 0., 0.]], dtype=float32)"
            ]
          },
          "metadata": {
            "tags": []
          },
          "execution_count": 18
        }
      ]
    },
    {
      "cell_type": "markdown",
      "metadata": {
        "id": "Srdm7wX_D_B6",
        "colab_type": "text"
      },
      "source": [
        "# Defining a (Sequential) Model\n",
        "\n",
        "Terminology:\n",
        "* 'relu' activation: a non-linear function applied to (essentially) a linear regression model\n",
        "\n",
        "* 'softmax' activation: In a one-vs-rest scheme: out of all the labels, it selects the one that has the largest probability of being the 'correct' answer."
      ]
    },
    {
      "cell_type": "markdown",
      "metadata": {
        "id": "rp_Wj_PFJ65s",
        "colab_type": "text"
      },
      "source": [
        "## Model Initialization"
      ]
    },
    {
      "cell_type": "code",
      "metadata": {
        "id": "q_qLTD84D6vD",
        "colab_type": "code",
        "outputId": "c6c81564-451c-4f07-8642-ce48bb6ca798",
        "colab": {
          "base_uri": "https://localhost:8080/",
          "height": 158
        }
      },
      "source": [
        "nn = models.Sequential()\n",
        "\n",
        "# First \"Hidden\" layer\n",
        "nn.add(layers.Dense(512,\n",
        "                   activation = 'relu',\n",
        "                   input_shape = (28*28, )) # Defines input layer\n",
        "      )\n",
        "\n",
        "# Output layer\n",
        "nn.add(layers.Dense(len(po.Series(train_labels).unique()), # number of neurons in this layer should be equal to the range of possible labels (0-9)\n",
        "                    activation = 'softmax' # Appropriate since we are doing multiclass classification\n",
        "                   ) \n",
        "      )"
      ],
      "execution_count": 19,
      "outputs": [
        {
          "output_type": "stream",
          "text": [
            "WARNING: Logging before flag parsing goes to stderr.\n",
            "W0807 20:06:36.755384 140013232560000 deprecation_wrapper.py:119] From /usr/local/lib/python3.6/dist-packages/keras/backend/tensorflow_backend.py:74: The name tf.get_default_graph is deprecated. Please use tf.compat.v1.get_default_graph instead.\n",
            "\n",
            "W0807 20:06:36.775705 140013232560000 deprecation_wrapper.py:119] From /usr/local/lib/python3.6/dist-packages/keras/backend/tensorflow_backend.py:517: The name tf.placeholder is deprecated. Please use tf.compat.v1.placeholder instead.\n",
            "\n",
            "W0807 20:06:36.780610 140013232560000 deprecation_wrapper.py:119] From /usr/local/lib/python3.6/dist-packages/keras/backend/tensorflow_backend.py:4138: The name tf.random_uniform is deprecated. Please use tf.random.uniform instead.\n",
            "\n"
          ],
          "name": "stderr"
        }
      ]
    },
    {
      "cell_type": "markdown",
      "metadata": {
        "id": "LpjxGPBBJ8uZ",
        "colab_type": "text"
      },
      "source": [
        "## Model Compilation"
      ]
    },
    {
      "cell_type": "code",
      "metadata": {
        "id": "dZOPael_Jpak",
        "colab_type": "code",
        "outputId": "1b9805dc-4d39-4c86-f8c0-00760e367c9e",
        "colab": {
          "base_uri": "https://localhost:8080/",
          "height": 106
        }
      },
      "source": [
        "nn.compile(optimizer = 'rmsprop', # Type of Stochastic Gradient Descent \n",
        "          loss = 'categorical_crossentropy', # See Data 100 Notes\n",
        "          metrics = ['accuracy']) # Basic metric"
      ],
      "execution_count": 20,
      "outputs": [
        {
          "output_type": "stream",
          "text": [
            "W0807 20:06:36.819994 140013232560000 deprecation_wrapper.py:119] From /usr/local/lib/python3.6/dist-packages/keras/optimizers.py:790: The name tf.train.Optimizer is deprecated. Please use tf.compat.v1.train.Optimizer instead.\n",
            "\n",
            "W0807 20:06:36.849467 140013232560000 deprecation_wrapper.py:119] From /usr/local/lib/python3.6/dist-packages/keras/backend/tensorflow_backend.py:3295: The name tf.log is deprecated. Please use tf.math.log instead.\n",
            "\n"
          ],
          "name": "stderr"
        }
      ]
    },
    {
      "cell_type": "markdown",
      "metadata": {
        "id": "EKc_vEQfJ-Z2",
        "colab_type": "text"
      },
      "source": [
        "## Model Fitting"
      ]
    },
    {
      "cell_type": "code",
      "metadata": {
        "id": "4sXyJrMsJyxa",
        "colab_type": "code",
        "outputId": "4ce75e1d-bca2-4af0-9786-3456f302e751",
        "colab": {
          "base_uri": "https://localhost:8080/",
          "height": 470
        }
      },
      "source": [
        "num_epochs = 10\n",
        "hists = nn.fit(flat_standard_train_images, dummied_train_labels,\n",
        "       epochs = num_epochs\n",
        "      )\n"
      ],
      "execution_count": 21,
      "outputs": [
        {
          "output_type": "stream",
          "text": [
            "W0807 20:06:36.969120 140013232560000 deprecation.py:323] From /usr/local/lib/python3.6/dist-packages/tensorflow/python/ops/math_grad.py:1250: add_dispatch_support.<locals>.wrapper (from tensorflow.python.ops.array_ops) is deprecated and will be removed in a future version.\n",
            "Instructions for updating:\n",
            "Use tf.where in 2.0, which has the same broadcast rule as np.where\n",
            "W0807 20:06:37.037268 140013232560000 deprecation_wrapper.py:119] From /usr/local/lib/python3.6/dist-packages/keras/backend/tensorflow_backend.py:986: The name tf.assign_add is deprecated. Please use tf.compat.v1.assign_add instead.\n",
            "\n"
          ],
          "name": "stderr"
        },
        {
          "output_type": "stream",
          "text": [
            "Epoch 1/10\n",
            "60000/60000 [==============================] - 11s 189us/step - loss: 0.2028 - acc: 0.9409\n",
            "Epoch 2/10\n",
            "60000/60000 [==============================] - 11s 188us/step - loss: 0.0905 - acc: 0.9739\n",
            "Epoch 3/10\n",
            "60000/60000 [==============================] - 11s 187us/step - loss: 0.0641 - acc: 0.9817\n",
            "Epoch 4/10\n",
            "60000/60000 [==============================] - 11s 183us/step - loss: 0.0503 - acc: 0.9860\n",
            "Epoch 5/10\n",
            "60000/60000 [==============================] - 11s 185us/step - loss: 0.0414 - acc: 0.9889\n",
            "Epoch 6/10\n",
            "60000/60000 [==============================] - 11s 186us/step - loss: 0.0330 - acc: 0.9912\n",
            "Epoch 7/10\n",
            "60000/60000 [==============================] - 11s 182us/step - loss: 0.0270 - acc: 0.9929\n",
            "Epoch 8/10\n",
            "60000/60000 [==============================] - 11s 184us/step - loss: 0.0223 - acc: 0.9943\n",
            "Epoch 9/10\n",
            "60000/60000 [==============================] - 11s 181us/step - loss: 0.0195 - acc: 0.9950\n",
            "Epoch 10/10\n",
            "60000/60000 [==============================] - 11s 184us/step - loss: 0.0165 - acc: 0.9962\n"
          ],
          "name": "stdout"
        }
      ]
    },
    {
      "cell_type": "code",
      "metadata": {
        "id": "hJZziiTYPk1E",
        "colab_type": "code",
        "outputId": "d77015b1-f2b1-49cf-f302-94f6c69527d0",
        "colab": {
          "base_uri": "https://localhost:8080/",
          "height": 283
        }
      },
      "source": [
        "plt.plot(list(range(num_epochs)), hists.history['acc'])\n",
        "plt.xlabel('Epoch')\n",
        "plt.ylabel('Accuracy')\n",
        "\n",
        "plt.show()"
      ],
      "execution_count": 22,
      "outputs": [
        {
          "output_type": "display_data",
          "data": {
            "image/png": "[encoded data removed]",
            "text/plain": [
              "<Figure size 432x288 with 1 Axes>"
            ]
          },
          "metadata": {
            "tags": []
          }
        }
      ]
    },
    {
      "cell_type": "markdown",
      "metadata": {
        "id": "_id9MTmZPX6A",
        "colab_type": "text"
      },
      "source": [
        "### (OPTIONAL) Parallelization\n",
        "Even for a relatively \"small\" dataset of 60000 images, running just 5 epochs took a long time! Let's try parallelizing the fitting using Ray."
      ]
    },
    {
      "cell_type": "code",
      "metadata": {
        "id": "peg9XmdnQY86",
        "colab_type": "code",
        "outputId": "83541161-a841-49e3-f7e4-442e1ab21f05",
        "colab": {
          "base_uri": "https://localhost:8080/",
          "height": 262
        }
      },
      "source": [
        "# ray.shutdown()\n",
        "ray.init(num_cpus = 8)"
      ],
      "execution_count": 23,
      "outputs": [
        {
          "output_type": "stream",
          "text": [
            "2019-08-07 20:08:28,297\tWARNING worker.py:1373 -- WARNING: Not updating worker name since `setproctitle` is not installed. Install this with `pip install setproctitle` (or ray[debug]) to enable monitoring of worker processes.\n",
            "2019-08-07 20:08:28,306\tINFO node.py:498 -- Process STDOUT and STDERR is being redirected to /tmp/ray/session_2019-08-07_20-08-28_304110_1966/logs.\n",
            "2019-08-07 20:08:28,431\tINFO services.py:409 -- Waiting for redis server at 127.0.0.1:35343 to respond...\n",
            "2019-08-07 20:08:28,581\tINFO services.py:409 -- Waiting for redis server at 127.0.0.1:21157 to respond...\n",
            "2019-08-07 20:08:28,588\tINFO services.py:809 -- Starting Redis shard with 2.58 GB max memory.\n",
            "2019-08-07 20:08:28,658\tINFO node.py:512 -- Process STDOUT and STDERR is being redirected to /tmp/ray/session_2019-08-07_20-08-28_304110_1966/logs.\n",
            "2019-08-07 20:08:28,665\tINFO services.py:1475 -- Starting the Plasma object store with 3.87 GB memory using /dev/shm.\n"
          ],
          "name": "stderr"
        },
        {
          "output_type": "execute_result",
          "data": {
            "text/plain": [
              "{'node_ip_address': '172.28.0.2',\n",
              " 'object_store_address': '/tmp/ray/session_2019-08-07_20-08-28_304110_1966/sockets/plasma_store',\n",
              " 'raylet_socket_name': '/tmp/ray/session_2019-08-07_20-08-28_304110_1966/sockets/raylet',\n",
              " 'redis_address': '172.28.0.2:35343',\n",
              " 'session_dir': '/tmp/ray/session_2019-08-07_20-08-28_304110_1966',\n",
              " 'webui_url': None}"
            ]
          },
          "metadata": {
            "tags": []
          },
          "execution_count": 23
        }
      ]
    },
    {
      "cell_type": "markdown",
      "metadata": {
        "id": "3r2YCkC7cCWd",
        "colab_type": "text"
      },
      "source": [
        "#### Brief Ray Tutorial"
      ]
    },
    {
      "cell_type": "markdown",
      "metadata": {
        "id": "zQyVVFVebHjP",
        "colab_type": "text"
      },
      "source": [
        "You can think of Ray as a big bank. When you *put* money into the bank, you get a receipt with an *ID* number."
      ]
    },
    {
      "cell_type": "code",
      "metadata": {
        "id": "O2WWw-gkb8lj",
        "colab_type": "code",
        "colab": {
          "base_uri": "https://localhost:8080/",
          "height": 34
        },
        "outputId": "8998912c-7e4a-4fc2-ceaa-6294bcf7f154"
      },
      "source": [
        "deposit_money = 1_000_000\n",
        "money_id = ray.put(deposit_money)\n",
        "print(money_id)"
      ],
      "execution_count": 24,
      "outputs": [
        {
          "output_type": "stream",
          "text": [
            "ObjectID(0369a14bc595e08cfbd508dfaa162cb7ffffffff)\n"
          ],
          "name": "stdout"
        }
      ]
    },
    {
      "cell_type": "markdown",
      "metadata": {
        "id": "_PNCDIswcPKK",
        "colab_type": "text"
      },
      "source": [
        "When you want to *get* your money back, simply give the *ID* of your deposit."
      ]
    },
    {
      "cell_type": "code",
      "metadata": {
        "id": "nSqdmYGOcPSX",
        "colab_type": "code",
        "colab": {
          "base_uri": "https://localhost:8080/",
          "height": 34
        },
        "outputId": "ae1fc9b8-7020-4d3c-c1f7-348c62b8252c"
      },
      "source": [
        "withdrawn_money = ray.get(money_id)\n",
        "print(withdrawn_money)"
      ],
      "execution_count": 25,
      "outputs": [
        {
          "output_type": "stream",
          "text": [
            "1000000\n"
          ],
          "name": "stdout"
        }
      ]
    },
    {
      "cell_type": "markdown",
      "metadata": {
        "id": "Ui8r0F9RctyY",
        "colab_type": "text"
      },
      "source": [
        "Ray Bank, however, takes 1 business day for every 100,000 dollars to process. \n",
        "\n",
        "__IDEA__: instead of depositing $1,000,000 all in one transaction, why not break it down into 10, smaller transactions?\n",
        "\n",
        "Then, if you want your million dollars back, you can just withdraw from all 10 of your accounts at the same time, getting all $1,000,000 dollars in just 1 business day!"
      ]
    },
    {
      "cell_type": "code",
      "metadata": {
        "id": "o1Nlf2q2ebL2",
        "colab_type": "code",
        "colab": {
          "base_uri": "https://localhost:8080/",
          "height": 51
        },
        "outputId": "ae9ce3e5-5c9d-4201-9343-5944d6c19cc3"
      },
      "source": [
        "# Withdrawing all $1,000,000 at the same time... SLOW!\n",
        "\n",
        "import time as t\n",
        "def withdraw_money(amount):\n",
        "  num_waiting_days = amount // 100_000\n",
        "  t.sleep(num_waiting_days)\n",
        "  \n",
        "  return amount\n",
        "\n",
        "start_time = t.perf_counter()\n",
        "\n",
        "withdrawn_money_slow = withdraw_money(1_000_000)\n",
        "\n",
        "end_time = t.perf_counter()\n",
        "\n",
        "display(withdrawn_money_slow,\n",
        "        str(end_time - start_time) + \" seconds\"\n",
        "       )"
      ],
      "execution_count": 26,
      "outputs": [
        {
          "output_type": "display_data",
          "data": {
            "text/plain": [
              "1000000"
            ]
          },
          "metadata": {
            "tags": []
          }
        },
        {
          "output_type": "display_data",
          "data": {
            "text/plain": [
              "'10.010061486999803 seconds'"
            ]
          },
          "metadata": {
            "tags": []
          }
        }
      ]
    },
    {
      "cell_type": "code",
      "metadata": {
        "id": "zJNxI7MVfp6z",
        "colab_type": "code",
        "colab": {}
      },
      "source": [
        "@ray.remote\n",
        "def withdraw_money_remote(amount):\n",
        "  return withdraw_money(amount)"
      ],
      "execution_count": 0,
      "outputs": []
    },
    {
      "cell_type": "code",
      "metadata": {
        "id": "1_B0ocTye3oe",
        "colab_type": "code",
        "colab": {
          "base_uri": "https://localhost:8080/",
          "height": 51
        },
        "outputId": "5f8aa149-7c2a-4347-8125-d285aa05ee86"
      },
      "source": [
        "# Withdrawing $100,000 from 10 banks at the same time... FAST!\n",
        "\n",
        "# Break up the $1,000,000 into ten $100,000's\n",
        "deposits_money = [100_000]*10\n",
        "\n",
        "# Deposit your money in 10 separate transactions\n",
        "deposits_ids = [ray.put(deposit_money) for deposit_money in deposits_money]\n",
        "\n",
        "### When you want to withdraw...\n",
        "start_time = t.perf_counter()\n",
        "\n",
        "# Get your deposit receipt IDs and exchange them all for withdrawal receipt IDs\n",
        "withdrawal_ids = [withdraw_money_remote.remote(ray.get(deposit_id)) for deposit_id in deposits_ids] # function.remote is basically .put(), but for a function instead of a variable\n",
        "\n",
        "# Give back all your withdrawal IDs when you get your money.\n",
        "withdrawals_money = ray.get(withdrawal_ids)\n",
        "\n",
        "# Recombine the ten 100,000's into your $1,000,000!\n",
        "withdrawn_money = sum(withdrawals_money)\n",
        "\n",
        "end_time = t.perf_counter()\n",
        "\n",
        "\n",
        "display(withdrawn_money,\n",
        "        str(end_time - start_time) + \" seconds\"\n",
        "       )"
      ],
      "execution_count": 28,
      "outputs": [
        {
          "output_type": "display_data",
          "data": {
            "text/plain": [
              "1000000"
            ]
          },
          "metadata": {
            "tags": []
          }
        },
        {
          "output_type": "display_data",
          "data": {
            "text/plain": [
              "'5.6042775599999 seconds'"
            ]
          },
          "metadata": {
            "tags": []
          }
        }
      ]
    },
    {
      "cell_type": "markdown",
      "metadata": {
        "id": "VXWMb0uykU79",
        "colab_type": "text"
      },
      "source": [
        "That concludes this Ray tutorial. Please like and subscribe for more.\n"
      ]
    },
    {
      "cell_type": "markdown",
      "metadata": {
        "id": "SOP9QPsTKAPU",
        "colab_type": "text"
      },
      "source": [
        "## Model Evaluation"
      ]
    },
    {
      "cell_type": "code",
      "metadata": {
        "id": "YZ5jJvzZKAJa",
        "colab_type": "code",
        "colab": {
          "base_uri": "https://localhost:8080/",
          "height": 51
        },
        "outputId": "75198c48-480d-4b4e-cd53-0d5178ce27a6"
      },
      "source": [
        "nn.evaluate(flat_standard_test_images, dummied_test_labels)"
      ],
      "execution_count": 29,
      "outputs": [
        {
          "output_type": "stream",
          "text": [
            "10000/10000 [==============================] - 1s 51us/step\n"
          ],
          "name": "stdout"
        },
        {
          "output_type": "execute_result",
          "data": {
            "text/plain": [
              "[0.09465404617114759, 0.9815]"
            ]
          },
          "metadata": {
            "tags": []
          },
          "execution_count": 29
        }
      ]
    },
    {
      "cell_type": "markdown",
      "metadata": {
        "id": "Do4epeQLpY-i",
        "colab_type": "text"
      },
      "source": [
        "While our training accuracy was over 99%, our testing accuracy is a \"mere\" 98%. Don't worry, this is very typical! Neural networks have a tendency to overfit on the training data."
      ]
    },
    {
      "cell_type": "markdown",
      "metadata": {
        "id": "P3g_3paaoYSh",
        "colab_type": "text"
      },
      "source": [
        "# Congratulations! You've successfully created a neural network!\n",
        "\n",
        "Ways to build upon your model:\n",
        "* Tuning hyperparameters (e.g. different optimizers, loss functions, regularization)\n",
        "* Changing layers (adding more hidden layers, increasing number of neurons)\n",
        "* Compare or ensemble results with other classifiers (decision trees, logistic regression)"
      ]
    }
  ]
}