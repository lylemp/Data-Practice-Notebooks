{
 "cells": [
  {
   "cell_type": "markdown",
   "metadata": {},
   "source": [
    "# Lab03 Extra Practice\n",
    "\n",
    "In lab03, the joins turned out pretty... pretty. But depending on the type of join you're doing, things may not always be so. It's very helpful to be well-acquainted with all the types of joins.\n",
    "\n",
    "As you learn about each join, consider referencing [this](https://www.google.com/url?sa=i&source=images&cd=&ved=2ahUKEwi8yaeBu_zlAhUzPn0KHTNuBXYQjRx6BAgBEAQ&url=https%3A%2F%2Ftheartofpostgresql.com%2Fblog%2F2019-09-sql-joins%2F&psig=AOvVaw0OVZtAz862qTM20VnJm4fw&ust=1574465446601540) nice visualization."
   ]
  },
  {
   "cell_type": "markdown",
   "metadata": {},
   "source": [
    "\n",
    "## Creating some data"
   ]
  },
  {
   "cell_type": "code",
   "execution_count": null,
   "metadata": {},
   "outputs": [],
   "source": [
    "import pandas as po\n",
    "import sqlite3\n",
    "\n",
    "t1 = po.DataFrame({\n",
    "    'Letter': ['a', 'b', 'c', 'd'],\n",
    "    'Number': [42, 12, 6, 3]\n",
    "})\n",
    "\n",
    "t2 = po.DataFrame({\n",
    "    'Letter': ['b', 'b', 'c', 'd', 'e', 'e'],\n",
    "    'Special': ['!','#', '?', '$', '@', '&']\n",
    "})\n",
    "\n",
    "display(t1, t2)"
   ]
  },
  {
   "cell_type": "markdown",
   "metadata": {},
   "source": [
    "## Joins\n",
    "\n",
    "In the parts below, we will go over all types of joins between two DataFrames in Pandas. Each part consists of two questions: analyzing the arisal of NaNs, and comparing the output between joining t2 to t1, and joining t1 to t2. For the second part, I highly recommend attempting to write down the table yourself first. Use the code from part (ii) as a way to check your answer."
   ]
  },
  {
   "cell_type": "markdown",
   "metadata": {},
   "source": [
    "### a) (FULL) OUTER\n",
    "\n",
    "\"If you're merging ON the Letter column, you will keep all rows from the left table, and all rows from the right table.\""
   ]
  },
  {
   "cell_type": "code",
   "execution_count": null,
   "metadata": {},
   "outputs": [],
   "source": [
    "pd.merge(left = t1, right = t2, on = 'Letter', how = 'outer')"
   ]
  },
  {
   "cell_type": "markdown",
   "metadata": {},
   "source": [
    "**(i) Take note of any NaNs. Explain how it got there.**"
   ]
  },
  {
   "cell_type": "markdown",
   "metadata": {},
   "source": [
    "*Your answer here*\n",
    "\n",
    "We see some NaNs begin to pop up. This is due to the fact that we're joining ON the 'Letter' column: We have an 'a' in Table t1, but we don't have an 'a' in t2. Similarly, we have an 'e' in Table t2, but we don't have an 'e' in Table t1."
   ]
  },
  {
   "cell_type": "markdown",
   "metadata": {},
   "source": [
    "#### (ii) Full outer join t1 to t2. Compare the output table with the table from joining t2 to t1 above."
   ]
  },
  {
   "cell_type": "code",
   "execution_count": 2,
   "metadata": {},
   "outputs": [
    {
     "ename": "NameError",
     "evalue": "name 'pd' is not defined",
     "output_type": "error",
     "traceback": [
      "\u001b[0;31m---------------------------------------------------------------------------\u001b[0m",
      "\u001b[0;31mNameError\u001b[0m                                 Traceback (most recent call last)",
      "\u001b[0;32m<ipython-input-2-38a70ff3e982>\u001b[0m in \u001b[0;36m<module>\u001b[0;34m\u001b[0m\n\u001b[0;32m----> 1\u001b[0;31m \u001b[0mpd\u001b[0m\u001b[0;34m.\u001b[0m\u001b[0mmerge\u001b[0m\u001b[0;34m(\u001b[0m\u001b[0mleft\u001b[0m \u001b[0;34m=\u001b[0m \u001b[0mt2\u001b[0m\u001b[0;34m,\u001b[0m \u001b[0mright\u001b[0m \u001b[0;34m=\u001b[0m \u001b[0mt1\u001b[0m\u001b[0;34m,\u001b[0m \u001b[0mon\u001b[0m \u001b[0;34m=\u001b[0m \u001b[0;34m'Letter'\u001b[0m\u001b[0;34m,\u001b[0m \u001b[0mhow\u001b[0m \u001b[0;34m=\u001b[0m \u001b[0;34m'outer'\u001b[0m\u001b[0;34m)\u001b[0m\u001b[0;34m\u001b[0m\u001b[0;34m\u001b[0m\u001b[0m\n\u001b[0m",
      "\u001b[0;31mNameError\u001b[0m: name 'pd' is not defined"
     ]
    }
   ],
   "source": [
    "pd.merge(left = t2, right = t1, on = 'Letter', how = 'outer')"
   ]
  },
  {
   "cell_type": "markdown",
   "metadata": {},
   "source": [
    "#  "
   ]
  },
  {
   "cell_type": "markdown",
   "metadata": {},
   "source": [
    "\n",
    "\n",
    "### b. (LEFT) OUTER\n",
    "\"If you're merging ON a column 'c', every row will be kept from the left table, and any rows in the right table matching in 'c' will be included, too.\""
   ]
  },
  {
   "cell_type": "code",
   "execution_count": null,
   "metadata": {},
   "outputs": [],
   "source": [
    "pd.merge(left = t1, right = t2, on = 'Letter', how = 'left')"
   ]
  },
  {
   "cell_type": "markdown",
   "metadata": {},
   "source": [
    "#### (i) Take note of any NaNs. Explain how it got there."
   ]
  },
  {
   "cell_type": "markdown",
   "metadata": {},
   "source": [
    "*Your answer here*"
   ]
  },
  {
   "cell_type": "markdown",
   "metadata": {},
   "source": [
    "#### (ii) Left outer join t1 to t2. Compare the output table with the table from joining t2 to t1 above."
   ]
  },
  {
   "cell_type": "code",
   "execution_count": null,
   "metadata": {},
   "outputs": [],
   "source": [
    "pd.merge(left = t2, right = t1, on = 'Letter', how = 'left')"
   ]
  },
  {
   "cell_type": "markdown",
   "metadata": {},
   "source": [
    "#  "
   ]
  },
  {
   "cell_type": "markdown",
   "metadata": {},
   "source": [
    "### c. (RIGHT) OUTER \n",
    "\"If you're merging ON a column 'c', every row will be kept from the right table, and any rows in the left table that match values in 'c' will be included, too.\""
   ]
  },
  {
   "cell_type": "code",
   "execution_count": null,
   "metadata": {},
   "outputs": [],
   "source": [
    "pd.merge(left = t1, right = t2, on = 'Letter', how = 'right')"
   ]
  },
  {
   "cell_type": "markdown",
   "metadata": {},
   "source": [
    "#### (i) Take note of any NaNs. Explain how it got there."
   ]
  },
  {
   "cell_type": "markdown",
   "metadata": {},
   "source": [
    "*Your answer here*"
   ]
  },
  {
   "cell_type": "markdown",
   "metadata": {},
   "source": [
    "#### (ii) Right outer join t1 to t2. Compare the output table with the table from joining t2 to t1 above."
   ]
  },
  {
   "cell_type": "code",
   "execution_count": null,
   "metadata": {},
   "outputs": [],
   "source": [
    "pd.merge(left = t2, right = t1, on = 'Letter', how = 'right')"
   ]
  },
  {
   "cell_type": "markdown",
   "metadata": {},
   "source": [
    "#  "
   ]
  },
  {
   "cell_type": "markdown",
   "metadata": {},
   "source": [
    "### d. INNER\n",
    "\"If you're merging ON a column 'c', only rows that match values in column 'c' will be kept.\""
   ]
  },
  {
   "cell_type": "code",
   "execution_count": null,
   "metadata": {},
   "outputs": [],
   "source": [
    "pd.merge(left = t1, right = t2, on = 'Letter', how = 'inner')"
   ]
  },
  {
   "cell_type": "markdown",
   "metadata": {},
   "source": [
    "#### (i) Take note of any NaNs. Explain why there are none."
   ]
  },
  {
   "cell_type": "markdown",
   "metadata": {},
   "source": [
    "*Your answer here*"
   ]
  },
  {
   "cell_type": "markdown",
   "metadata": {},
   "source": [
    "#### (ii) Take note of any missing rows. Explain how they've disappeared."
   ]
  },
  {
   "cell_type": "markdown",
   "metadata": {},
   "source": [
    "*Your answer here*"
   ]
  },
  {
   "cell_type": "code",
   "execution_count": null,
   "metadata": {},
   "outputs": [],
   "source": [
    "#pd.merge(left = t2, right = t1, on = 'Letter', how = 'inner')"
   ]
  },
  {
   "cell_type": "markdown",
   "metadata": {},
   "source": [
    "#### (Small detail: \"Left inner\" and \"right inner\" function the same. Therefore, the (LEFT) or (RIGHT) is omitted in front of INNER joins.)"
   ]
  },
  {
   "cell_type": "markdown",
   "metadata": {},
   "source": [
    "#### (Small detail: If a value in 'c' has duplicates in either table, CROSS JOIN will take all unique combinations.)\n",
    "\n",
    "* Example: merging ON 'Letter', t1 only has one row with a 'b' (b, 12), but t2 has two rows with a 'b' (b, !) (b, #) \n",
    "* * So, all the unique combinations would be (b, 12, !), (b, 12, #)."
   ]
  },
  {
   "cell_type": "markdown",
   "metadata": {},
   "source": [
    "#  "
   ]
  },
  {
   "cell_type": "markdown",
   "metadata": {},
   "source": [
    "## A Concrete Example \n",
    "As mentioned before, you are probably going to lose some information when doing joins (unless you're doing a full outer join, in which case you're probably going to have a very messy dataset).\n",
    "\n",
    "In a sense, this is a good thing, as it a sort of \"automatic filtering.\" Sometimes, it even makes further data manipulation (like grouping or indexing) easier!"
   ]
  },
  {
   "cell_type": "markdown",
   "metadata": {},
   "source": [
    "\n",
    "Let's say we have a school of 5 students, Abigail, Ashwin, Kevin, Kevin, and Zach. Each have their own unique student ID.\n",
    "\n",
    "At the end of the year, they all take a final exam. You're allowed as many repeats as you want, and you're allowed to skip it, too (you'd probably flunk out, but you can skip it if you really want)."
   ]
  },
  {
   "cell_type": "code",
   "execution_count": null,
   "metadata": {},
   "outputs": [],
   "source": [
    "### Make some data\n",
    "\n",
    "\n",
    "students = pd.DataFrame({\n",
    "    'Name': ['Abigail', 'Ashwin', 'Kevin', 'Kevin', 'Zach'],\n",
    "    'SID': ['10000', '10001', '10002', '10003', '10004'],\n",
    "    'Year': [1, 1, 2, 4, 3]   \n",
    "})\n",
    "\n",
    "\n",
    "final_grades = pd.DataFrame({\n",
    "    'SID': ['10000', '10000', '10000', '10001', '10003', '10003', '10004'],\n",
    "    'Grades': ['B', 'C-', 'A-', 'B+', 'F', 'D+', 'A+'] \n",
    "    #Yes, some students took it twice, and some students didn't take it at all\n",
    "})\n",
    "\n",
    "display(students, final_grades)"
   ]
  },
  {
   "cell_type": "markdown",
   "metadata": {},
   "source": [
    "### 1. Return a table of students (with their name and year) with their corresponding grades on the exam"
   ]
  },
  {
   "cell_type": "code",
   "execution_count": null,
   "metadata": {},
   "outputs": [],
   "source": [
    "merged_table = pd.merge(left = students, right = final_grades, on = 'SID', how = 'inner')\n",
    "merged_table"
   ]
  },
  {
   "cell_type": "markdown",
   "metadata": {},
   "source": [
    "### 2. Take your merged table and look at the number of exams taken for each Year."
   ]
  },
  {
   "cell_type": "code",
   "execution_count": null,
   "metadata": {},
   "outputs": [],
   "source": [
    "merged_table.groupby('Year').count()['Name']"
   ]
  },
  {
   "cell_type": "markdown",
   "metadata": {},
   "source": [
    "Conclusion: First-years are tryhards and second-years are degenerates."
   ]
  },
  {
   "cell_type": "markdown",
   "metadata": {},
   "source": [
    "# Congratulations! You reached the end :)"
   ]
  }
 ],
 "metadata": {
  "kernelspec": {
   "display_name": "Python 3",
   "language": "python",
   "name": "python3"
  },
  "language_info": {
   "codemirror_mode": {
    "name": "ipython",
    "version": 3
   },
   "file_extension": ".py",
   "mimetype": "text/x-python",
   "name": "python",
   "nbconvert_exporter": "python",
   "pygments_lexer": "ipython3",
   "version": "3.6.8"
  }
 },
 "nbformat": 4,
 "nbformat_minor": 2
}
